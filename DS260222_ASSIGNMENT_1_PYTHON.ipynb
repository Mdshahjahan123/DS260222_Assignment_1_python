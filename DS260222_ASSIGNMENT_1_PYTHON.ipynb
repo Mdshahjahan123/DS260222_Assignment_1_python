{
 "cells": [
  {
   "cell_type": "code",
   "execution_count": 5,
   "id": "246781c6",
   "metadata": {},
   "outputs": [
    {
     "name": "stdout",
     "output_type": "stream",
     "text": [
      "Enter the Word: Edyoda\n",
      "The reversed word is : adoydE \n"
     ]
    }
   ],
   "source": [
    "#Write a Python program that accepts a word from the user and reverse it.\n",
    "str = input(\"Enter the Word: \")\n",
    "reversed = \" \"\n",
    "for i in str:\n",
    "    reversed = i +reversed\n",
    "print(\"The reversed word is :\",reversed)"
   ]
  },
  {
   "cell_type": "code",
   "execution_count": 7,
   "id": "208d82c7",
   "metadata": {},
   "outputs": [
    {
     "name": "stdout",
     "output_type": "stream",
     "text": [
      "Even 4\n",
      "Odd 5\n"
     ]
    }
   ],
   "source": [
    "#Write a Python program to count the number of even and odd numbers from a series of numbers.\n",
    "\n",
    "\n",
    "odd_even = (1,2,3,4,5,6,7,8,9)\n",
    "even = 0\n",
    "odd = 0\n",
    "for  i in odd_even:\n",
    "    if i%2==0:\n",
    "        \n",
    "        even+=1\n",
    "    elif i%2!=0:\n",
    "        odd+=1\n",
    "print(\"Even\",even)\n",
    "print(\"Odd\",odd)"
   ]
  },
  {
   "cell_type": "code",
   "execution_count": 6,
   "id": "1dc4f3e5",
   "metadata": {},
   "outputs": [
    {
     "name": "stdout",
     "output_type": "stream",
     "text": [
      "1\n",
      "1\n",
      "2\n",
      "3\n",
      "5\n",
      "8\n",
      "13\n",
      "21\n",
      "34\n"
     ]
    }
   ],
   "source": [
    "# Write a Python program to get the Fibonacci series between 0 to 50\n",
    "\n",
    "x,y = 0,1\n",
    "while y <50:\n",
    "    print(y)\n",
    "    x,y = y,x+y"
   ]
  },
  {
   "cell_type": "code",
   "execution_count": null,
   "id": "562b1511",
   "metadata": {},
   "outputs": [],
   "source": []
  }
 ],
 "metadata": {
  "kernelspec": {
   "display_name": "Python 3 (ipykernel)",
   "language": "python",
   "name": "python3"
  },
  "language_info": {
   "codemirror_mode": {
    "name": "ipython",
    "version": 3
   },
   "file_extension": ".py",
   "mimetype": "text/x-python",
   "name": "python",
   "nbconvert_exporter": "python",
   "pygments_lexer": "ipython3",
   "version": "3.9.7"
  }
 },
 "nbformat": 4,
 "nbformat_minor": 5
}
